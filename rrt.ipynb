{
 "cells": [
  {
   "cell_type": "code",
   "execution_count": null,
   "metadata": {},
   "outputs": [],
   "source": [
    "!pip3 install kdtree"
   ]
  },
  {
   "cell_type": "code",
   "execution_count": 2,
   "metadata": {},
   "outputs": [],
   "source": [
    "import random\n",
    "import math\n",
    "from shapely.geometry import Polygon as ShapelyPolygon, Point\n",
    "from scipy.spatial import ConvexHull\n",
    "from shapely.geometry import Polygon\n",
    "import kdtree\n",
    "from matplotlib.patches import Polygon\n",
    "from map_generators.radnom_walk import generate_random_walk_map\n",
    "from map_generators.non_intersecting_polygons import generate_non_intersecting_polygons\n",
    "from map_generators.rect_with_gap import generate_rects_with_gap\n",
    "from tests.read_test_map import read_test_map\n",
    "from visualization.map_visualization import show_map_vectorized\n",
    "from visualization.rrt_visualization import visualize_rrt\n",
    "from tests.check_results import construct_path_from_node"
   ]
  },
  {
   "cell_type": "markdown",
   "metadata": {},
   "source": [
    "# Sampling-Based алгоритм RRT для задачи построения маршрута\n",
    "\n",
    "In this lab, we will consider the problem of finding a path in continuous space for a point robot. For these purposes, we will use a sample-based approach.\n",
    "\n",
    "The `Rapidly exploring Random Tree` (`RRT`) algorithm, is based on the idea of using a special data structure for planning in continuous space. In a tree, every node except the root has exactly one parent node. At every step, the algorithm creates a new node and try to connect it to the tree. The aim is to generate a node, which close to the goal configuration.\n",
    "\n",
    "The stages of `RRT` grow at every algorithm step can be summarized as follows:\n",
    "1) Make random point x<sub>rand</sub> by sampling in configuration space\n",
    "2) Find the nearest to x<sub>rand</sub> tree node x<sub>near</sub> \n",
    "3) Extend the tree from x<sub>near</sub> in the direction of the point x<sub>rand</sub>, create  x<sub>new</sub>\n",
    "\n",
    "\n",
    "The main advantages of the sampling-based algorithms are the possibility of using it for problems of finding paths in a continuous space, taking into account geometric (for example, the size or shape of the agent) and kinodynamic constraints. Such algorithms are also can be used to find solutions for high-dimensions problems (e.g. motion planning of robot arm), but in this lab we will consider the basic ideas of the sampled-based approach using the well-known problem of finding a path on a plane. To simplify a number of auxiliary operations, we will use a grid representation of the environment, although this algorithm allows us to operate in a completely continuous space."
   ]
  },
  {
   "cell_type": "markdown",
   "metadata": {},
   "source": [
    "# Representation"
   ]
  },
  {
   "cell_type": "code",
   "execution_count": null,
   "metadata": {},
   "outputs": [],
   "source": [
    "obstacles_sample = [[(2, 2), (3, 3), (2, 4), (1, 3)],\n",
    "             [(5, 5), (6, 7), (7, 6)],\n",
    "             ]\n",
    "\n",
    "show_map_vectorized(10, 10, obstacles_sample, show_cords=False, show_obstacles_index=True, show_vertexes=True)"
   ]
  },
  {
   "cell_type": "markdown",
   "metadata": {},
   "source": [
    "# RRT Algorithm"
   ]
  },
  {
   "cell_type": "code",
   "execution_count": 4,
   "metadata": {},
   "outputs": [],
   "source": [
    "class RRTNode:\n",
    "    \"\"\"\n",
    "    Represents a search node for RRT algorithm.\n",
    "\n",
    "    Attributes\n",
    "    ----------\n",
    "    state : npt.NDArray\n",
    "        State in space corresponding to current node.\n",
    "    parent : RRTNode\n",
    "        Pointer to the parent node.\n",
    "    trajectory : npt.NDArray\n",
    "        Trajectory from parent node state to current state\n",
    "    g : float | int\n",
    "        Length of the path to the current node.\n",
    "    \"\"\"\n",
    "    def __init__(self, \n",
    "                 state,\n",
    "                 parent: \"RRTNode\" = None,\n",
    "                 trajectory = None,\n",
    "                 g: float = 0.0):\n",
    "        self.state = state\n",
    "        self.parent = parent\n",
    "        self.traj_from_parent = trajectory\n",
    "        self.g = g\n",
    "\n",
    "    def __len__(self):\n",
    "        \"\"\"\n",
    "        The auxiliary method required for the correct operation of the KD-tree\n",
    "        \"\"\"\n",
    "        return len(self.state)\n",
    "\n",
    "    def __getitem__(self, i):\n",
    "        \"\"\"\n",
    "        The auxiliary method required for the correct operation of the KD-tree\n",
    "        \"\"\"\n",
    "        return self.state[i]\n",
    "\n",
    "    def __repr__(self):\n",
    "        return 'Vertex({}, {})'.format(self.state[0], self.state[1])"
   ]
  },
  {
   "cell_type": "code",
   "execution_count": 5,
   "metadata": {},
   "outputs": [],
   "source": [
    "def in_collision(state, \n",
    "                 obstacles):\n",
    "    \"\"\"\n",
    "    Checks the state is in conflict with the static environment.\n",
    "    \"\"\"\n",
    "    pass\n",
    "    # TODO\n",
    "    \n",
    "def metric(state1, state2):\n",
    "    \"\"\"\n",
    "    Metric in the state space. In the current lab, the Euclidean distance between points on the plane is used.\n",
    "    \"\"\"\n",
    "    pass\n",
    "    # TODO\n",
    "\n",
    "def in_goal_region(state, \n",
    "                   state_goal, \n",
    "                   region_size):\n",
    "    \"\"\"\n",
    "    Checks if the given state is close enough to the goal\n",
    "    \"\"\"\n",
    "    pass\n",
    "    # TODO\n",
    "    \n",
    "def traj_with_collision(traj, obstacles):\n",
    "    \"\"\"\n",
    "    Checks that the trajectory does not conflict with obstacles.\n",
    "    \"\"\"\n",
    "    pass\n",
    "    # TODO\n",
    "\n",
    "def create_new_state(x_initial, y_initial,\n",
    "                     x_target, y_target,\n",
    "                     obstacles, \n",
    "                     max_transition):\n",
    "    \"\"\"\n",
    "    Selects a new state by moving an incremental distance from state_initial, in the direction of state_target. \n",
    "\n",
    "    This function also runs the validation of the trajectory for conflicting with obstacles.\n",
    "\n",
    "    Note that this lab considers the case when the maximum transition is limited. \n",
    "    The constraint is set as the first element of the *args.\n",
    "    \"\"\"\n",
    "    pass\n",
    "    # TODO\n",
    "\n",
    "def create_random_state(map_width, map_height, \n",
    "                        goal_bias: float, \n",
    "                        i_goal, j_goal,\n",
    "                        goal_sampling_region: float):\n",
    "    \"\"\"\n",
    "    Generates a random configuration in search space. \n",
    "    With probability `goal_bias` generates a state in the neighbourhood (`goal_sampling_region`) of the 2 goal state.\n",
    "    \"\"\"\n",
    "    pass\n",
    "    # TODO\n",
    "\n",
    "def extend(tree: kdtree, \n",
    "           obstacles, \n",
    "           state_random,\n",
    "           max_transition):\n",
    "    \"\"\"\n",
    "    The key function of the RRT algorithm that builds up the search tree. \n",
    "    Note that this lab considers the case when the maximum transition is limited.\n",
    "    \"\"\"\n",
    "    pass\n",
    "    # TODO"
   ]
  },
  {
   "cell_type": "code",
   "execution_count": 6,
   "metadata": {},
   "outputs": [],
   "source": [
    "def rrt(map_w: int,\n",
    "        map_h: int,\n",
    "        obstacles: list, \n",
    "        start_x: float, \n",
    "        start_y: float, \n",
    "        goal_x: float, \n",
    "        goal_y: float, \n",
    "        max_transition,\n",
    "        max_iter = 10000, \n",
    "        goal_region = 5,\n",
    "        goal_bias = 0.02,\n",
    "        ):\n",
    "    \"\"\"\n",
    "    Implements the RRT search algorithm.\n",
    "\n",
    "    Parameters\n",
    "    ----------\n",
    "    task_map : Map\n",
    "        The grid or map being searched.\n",
    "    start_x, start_y : float, float\n",
    "        Starting coordinates.\n",
    "    goal_x, goal_y : float, float\n",
    "        Goal coordinates.\n",
    "    max_iter : int\n",
    "        Maximum number of iterations of the algorithm\n",
    "    goal_region : float\n",
    "        The size of the neighborhood of the goal state where the goal is considered to have been reached by the sample\n",
    "    goal_bias : float\n",
    "        The probability with which the state close to the goal is sampled\n",
    "\n",
    "    Returns\n",
    "    -------\n",
    "    Tuple[bool, Optional[RRTNode], int, Optional[KDNode], List[RRTNode]]\n",
    "        Tuple containing:\n",
    "        - A boolean indicating if a path was found.\n",
    "        - The last node in the found path or None.\n",
    "        - Number of algorithm iterations.\n",
    "        - RRT search tree.\n",
    "        - All nodes that have been added to the tree in the order of appending.\n",
    "    \"\"\"\n",
    "    \n",
    "    node_start = RRTNode([start_x, start_y], None, None, 0.0)\n",
    "    state_goal = [goal_x, goal_y]\n",
    "    tree = kdtree.create([node_start])\n",
    "    iter = 0\n",
    "    all_points = [(node_start, 0)]\n",
    "    \n",
    "    pass\n",
    "    # TODO"
   ]
  },
  {
   "cell_type": "markdown",
   "metadata": {},
   "source": [
    "# Tests"
   ]
  },
  {
   "cell_type": "markdown",
   "metadata": {},
   "source": [
    "<img src=\"./media/maps.png\" alt=\"drawing\" width=\"700\"/>"
   ]
  },
  {
   "cell_type": "markdown",
   "metadata": {},
   "source": [
    "# Columns"
   ]
  },
  {
   "cell_type": "code",
   "execution_count": 7,
   "metadata": {},
   "outputs": [],
   "source": [
    "width, height, start, goal, obstacles = read_test_map(\"./tests/columns.txt\")\n",
    "found, end_node, number_of_steps, tree, all_points = rrt(width, height, obstacles, *start, *goal, max_transition=7, goal_bias=0.05, goal_region=10)"
   ]
  },
  {
   "cell_type": "code",
   "execution_count": null,
   "metadata": {},
   "outputs": [],
   "source": [
    "animation = visualize_rrt(width, height, *start, *goal, obstacles, all_points, construct_path_from_node(end_node), goal_region=10, iterations=number_of_steps, max_iteration=10_000, path_length=end_node.g)\n",
    "animation"
   ]
  },
  {
   "cell_type": "markdown",
   "metadata": {},
   "source": [
    "## Random Obstacles "
   ]
  },
  {
   "cell_type": "code",
   "execution_count": 9,
   "metadata": {},
   "outputs": [],
   "source": [
    "width, height, start, goal, obstacles = read_test_map(\"./tests/rand_polygons.txt\")\n",
    "found, end_node, number_of_steps, tree, all_points = rrt(width, height, obstacles, *start, *goal, max_transition=5, goal_bias=0.05, goal_region=10)"
   ]
  },
  {
   "cell_type": "code",
   "execution_count": null,
   "metadata": {},
   "outputs": [],
   "source": [
    "animation = visualize_rrt(width, height, *start, *goal, obstacles, all_points, construct_path_from_node(end_node), goal_region=10, iterations=number_of_steps, max_iteration=10_000, path_length=round(end_node.g,2))\n",
    "animation"
   ]
  },
  {
   "cell_type": "markdown",
   "metadata": {},
   "source": [
    "## Massive Tests"
   ]
  },
  {
   "cell_type": "code",
   "execution_count": null,
   "metadata": {},
   "outputs": [],
   "source": [
    "max_transitions = [3, 7, 15]\n",
    "goal_regions = [5, 10, 25]\n",
    "goal_biases = [0.05, 0.10, 0.15]"
   ]
  },
  {
   "cell_type": "code",
   "execution_count": null,
   "metadata": {},
   "outputs": [],
   "source": [
    "width, height, start, goal, obstacles = read_test_map(\"./tests/columns.txt\")\n",
    "results = []\n",
    "\n",
    "for max_transition in max_transitions:\n",
    "    for goal_region in goal_regions:\n",
    "        for goal_bias in goal_biases:\n",
    "            found, end_node, number_of_steps, tree, all_points = rrt(width, height, obstacles, *start, *goal, max_transition=max_transition, goal_bias=goal_bias, goal_region=goal_region)\n",
    "            results.append({\"found\": found, \"number of steps\": number_of_steps, \"number of nodes\": len(all_points), \"max transition\": max_transition, \"goal bias\": goal_bias, \"goal region\": goal_region})\n",
    "\n",
    "for line in results:\n",
    "    print(\"-----------------\")\n",
    "    print(f\"Max transition: {line['max transition']}\")\n",
    "    print(f\"Goal bias: {line['goal bias']}\")\n",
    "    print(f\"Goal region: {line['goal region']}\")\n",
    "    print(f\"Found: {line['found']}\")\n",
    "    print(f\"Number of steps: {line['number of steps']}\")\n",
    "    print(f\"Number of nodes: {line['number of nodes']}\")\n",
    "            "
   ]
  }
 ],
 "metadata": {
  "kernelspec": {
   "display_name": "base",
   "language": "python",
   "name": "python3"
  },
  "language_info": {
   "codemirror_mode": {
    "name": "ipython",
    "version": 3
   },
   "file_extension": ".py",
   "mimetype": "text/x-python",
   "name": "python",
   "nbconvert_exporter": "python",
   "pygments_lexer": "ipython3",
   "version": "3.12.3"
  }
 },
 "nbformat": 4,
 "nbformat_minor": 2
}
